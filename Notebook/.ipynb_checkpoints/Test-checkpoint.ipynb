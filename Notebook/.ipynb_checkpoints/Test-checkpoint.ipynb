{
 "cells": [
  {
   "cell_type": "code",
   "execution_count": 1,
   "metadata": {},
   "outputs": [],
   "source": [
    "import records"
   ]
  },
  {
   "cell_type": "code",
   "execution_count": 2,
   "metadata": {},
   "outputs": [],
   "source": [
    "rec = records.Records(\"Bombus\", interval=(1900, 1905))"
   ]
  },
  {
   "cell_type": "code",
   "execution_count": 3,
   "metadata": {},
   "outputs": [],
   "source": [
    "kwargs = {\"country\": \"CA\", }\n",
    "rec = records.Records(\"Bombus\",(1900, 1905), **kwargs)"
   ]
  },
  {
   "cell_type": "code",
   "execution_count": 4,
   "metadata": {},
   "outputs": [
    {
     "data": {
      "text/plain": [
       "(167, 83)"
      ]
     },
     "execution_count": 4,
     "metadata": {},
     "output_type": "execute_result"
    }
   ],
   "source": [
    "rec.df.shape"
   ]
  },
  {
   "cell_type": "code",
   "execution_count": 5,
   "metadata": {},
   "outputs": [
    {
     "data": {
      "text/html": [
       "<div>\n",
       "<style scoped>\n",
       "    .dataframe tbody tr th:only-of-type {\n",
       "        vertical-align: middle;\n",
       "    }\n",
       "\n",
       "    .dataframe tbody tr th {\n",
       "        vertical-align: top;\n",
       "    }\n",
       "\n",
       "    .dataframe thead th {\n",
       "        text-align: right;\n",
       "    }\n",
       "</style>\n",
       "<table border=\"1\" class=\"dataframe\">\n",
       "  <thead>\n",
       "    <tr style=\"text-align: right;\">\n",
       "      <th></th>\n",
       "      <th>species</th>\n",
       "      <th>year</th>\n",
       "      <th>country</th>\n",
       "      <th>stateProvince</th>\n",
       "    </tr>\n",
       "  </thead>\n",
       "  <tbody>\n",
       "    <tr>\n",
       "      <th>0</th>\n",
       "      <td>Bombus sitkensis</td>\n",
       "      <td>1902</td>\n",
       "      <td>Canada</td>\n",
       "      <td>British Columbia</td>\n",
       "    </tr>\n",
       "    <tr>\n",
       "      <th>1</th>\n",
       "      <td>Bombus sitkensis</td>\n",
       "      <td>1903</td>\n",
       "      <td>Canada</td>\n",
       "      <td>British Columbia</td>\n",
       "    </tr>\n",
       "    <tr>\n",
       "      <th>2</th>\n",
       "      <td>Bombus rufocinctus</td>\n",
       "      <td>1903</td>\n",
       "      <td>Canada</td>\n",
       "      <td>Ontario</td>\n",
       "    </tr>\n",
       "    <tr>\n",
       "      <th>3</th>\n",
       "      <td>Bombus insularis</td>\n",
       "      <td>1902</td>\n",
       "      <td>Canada</td>\n",
       "      <td>British Columbia</td>\n",
       "    </tr>\n",
       "    <tr>\n",
       "      <th>4</th>\n",
       "      <td>Bombus flavifrons</td>\n",
       "      <td>1905</td>\n",
       "      <td>Canada</td>\n",
       "      <td>British Columbia</td>\n",
       "    </tr>\n",
       "  </tbody>\n",
       "</table>\n",
       "</div>"
      ],
      "text/plain": [
       "              species  year country     stateProvince\n",
       "0    Bombus sitkensis  1902  Canada  British Columbia\n",
       "1    Bombus sitkensis  1903  Canada  British Columbia\n",
       "2  Bombus rufocinctus  1903  Canada           Ontario\n",
       "3    Bombus insularis  1902  Canada  British Columbia\n",
       "4   Bombus flavifrons  1905  Canada  British Columbia"
      ]
     },
     "execution_count": 5,
     "metadata": {},
     "output_type": "execute_result"
    }
   ],
   "source": [
    "rec.sdf.head()"
   ]
  },
  {
   "cell_type": "code",
   "execution_count": 6,
   "metadata": {},
   "outputs": [],
   "source": [
    "ep = records.Epochs(\"Bombus\", 1900, 1960, 3, **{\"country\": \"CA\"})"
   ]
  },
  {
   "cell_type": "code",
   "execution_count": 7,
   "metadata": {},
   "outputs": [
    {
     "data": {
      "text/html": [
       "<div>\n",
       "<style scoped>\n",
       "    .dataframe tbody tr th:only-of-type {\n",
       "        vertical-align: middle;\n",
       "    }\n",
       "\n",
       "    .dataframe tbody tr th {\n",
       "        vertical-align: top;\n",
       "    }\n",
       "\n",
       "    .dataframe thead th {\n",
       "        text-align: right;\n",
       "    }\n",
       "</style>\n",
       "<table border=\"1\" class=\"dataframe\">\n",
       "  <thead>\n",
       "    <tr style=\"text-align: right;\">\n",
       "      <th></th>\n",
       "      <th>species</th>\n",
       "      <th>year</th>\n",
       "      <th>epoch</th>\n",
       "      <th>country</th>\n",
       "      <th>stateProvince</th>\n",
       "    </tr>\n",
       "  </thead>\n",
       "  <tbody>\n",
       "    <tr>\n",
       "      <th>0</th>\n",
       "      <td>Bombus fervidus</td>\n",
       "      <td>1900</td>\n",
       "      <td>1900</td>\n",
       "      <td>Canada</td>\n",
       "      <td>Ontario</td>\n",
       "    </tr>\n",
       "    <tr>\n",
       "      <th>1</th>\n",
       "      <td>Bombus borealis</td>\n",
       "      <td>1900</td>\n",
       "      <td>1900</td>\n",
       "      <td>Canada</td>\n",
       "      <td>Manitoba</td>\n",
       "    </tr>\n",
       "    <tr>\n",
       "      <th>2</th>\n",
       "      <td>Bombus vagans</td>\n",
       "      <td>1900</td>\n",
       "      <td>1900</td>\n",
       "      <td>Canada</td>\n",
       "      <td>New Brunswick</td>\n",
       "    </tr>\n",
       "    <tr>\n",
       "      <th>3</th>\n",
       "      <td>Bombus sitkensis</td>\n",
       "      <td>1901</td>\n",
       "      <td>1900</td>\n",
       "      <td>Canada</td>\n",
       "      <td>British Columbia</td>\n",
       "    </tr>\n",
       "    <tr>\n",
       "      <th>4</th>\n",
       "      <td>Bombus fervidus</td>\n",
       "      <td>1901</td>\n",
       "      <td>1900</td>\n",
       "      <td>Canada</td>\n",
       "      <td>British Columbia</td>\n",
       "    </tr>\n",
       "  </tbody>\n",
       "</table>\n",
       "</div>"
      ],
      "text/plain": [
       "            species  year  epoch country     stateProvince\n",
       "0   Bombus fervidus  1900   1900  Canada           Ontario\n",
       "1   Bombus borealis  1900   1900  Canada          Manitoba\n",
       "2     Bombus vagans  1900   1900  Canada     New Brunswick\n",
       "3  Bombus sitkensis  1901   1900  Canada  British Columbia\n",
       "4   Bombus fervidus  1901   1900  Canada  British Columbia"
      ]
     },
     "execution_count": 7,
     "metadata": {},
     "output_type": "execute_result"
    }
   ],
   "source": [
    "ep.sdf.head()"
   ]
  },
  {
   "cell_type": "code",
   "execution_count": 8,
   "metadata": {},
   "outputs": [
    {
     "data": {
      "text/plain": [
       "stateProvince\n",
       "Alberta                      0.931118\n",
       "British Columbia             0.895157\n",
       "Manitoba                     0.824811\n",
       "New Brunswick                0.838605\n",
       "Newfoundland                 0.514364\n",
       "Newfoundland and Labrador    0.782402\n",
       "Northwest Territories        0.856733\n",
       "Northwest Territory               NaN\n",
       "Nova Scotia                  0.779297\n",
       "Nunavut                      0.571049\n",
       "Ontario                      0.862044\n",
       "Prince Edward Island         0.640000\n",
       "Quebec                       0.872687\n",
       "Sakatchewan                  0.819375\n",
       "Saskatchewan                 0.886108\n",
       "Vancouver Island                  NaN\n",
       "Yukon                        0.799447\n",
       "Yukon Territory              0.888353\n",
       "[Not Stated]                 0.444444\n",
       "m                            0.489796\n",
       "Name: species, dtype: float64"
      ]
     },
     "execution_count": 8,
     "metadata": {},
     "output_type": "execute_result"
    }
   ],
   "source": [
    "ep.simpsons_diversity(by=\"stateProvince\")"
   ]
  },
  {
   "cell_type": "code",
   "execution_count": 12,
   "metadata": {},
   "outputs": [],
   "source": [
    "ep.df.to_csv(\"../data/Bombus-1900-1960-CA.csv\")"
   ]
  },
  {
   "cell_type": "code",
   "execution_count": 13,
   "metadata": {},
   "outputs": [
    {
     "name": "stderr",
     "output_type": "stream",
     "text": [
      "/Users/Sylvia/miniconda3/lib/python3.6/site-packages/IPython/core/interactiveshell.py:2850: DtypeWarning: Columns (5,18,36,37,44,46,47,51,52,57,94,96,98,100,109,111) have mixed types. Specify dtype option on import or set low_memory=False.\n",
      "  if self.run_code(code, result):\n"
     ]
    }
   ],
   "source": [
    "ep = records.load_epochs_from_csv(\"../data/Bombus-1900-1960-CA.csv\")"
   ]
  },
  {
   "cell_type": "code",
   "execution_count": 14,
   "metadata": {},
   "outputs": [
    {
     "data": {
      "text/plain": [
       "(17752, 115)"
      ]
     },
     "execution_count": 14,
     "metadata": {},
     "output_type": "execute_result"
    }
   ],
   "source": [
    "ep.df.shape"
   ]
  },
  {
   "cell_type": "code",
   "execution_count": null,
   "metadata": {},
   "outputs": [],
   "source": []
  }
 ],
 "metadata": {
  "kernelspec": {
   "display_name": "Python 3",
   "language": "python",
   "name": "python3"
  },
  "language_info": {
   "codemirror_mode": {
    "name": "ipython",
    "version": 3
   },
   "file_extension": ".py",
   "mimetype": "text/x-python",
   "name": "python",
   "nbconvert_exporter": "python",
   "pygments_lexer": "ipython3",
   "version": "3.6.3"
  }
 },
 "nbformat": 4,
 "nbformat_minor": 2
}
